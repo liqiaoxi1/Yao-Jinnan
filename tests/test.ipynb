{
 "cells": [
  {
   "cell_type": "code",
   "source": [
    "from langchain.chat_models import ChatOpenAI\n",
    "from core.config import settings\n",
    "chat = ChatOpenAI(\n",
    "    temperature=0,\n",
    "    model=\"glm-4\",\n",
    "    openai_api_key=settings.ZHIPUAI_API_KEY,\n",
    "    openai_api_base=\"https://open.bigmodel.cn/api/paas/v4/\",\n",
    "    streaming=True,\n",
    ")  # langchain使用"
   ],
   "metadata": {
    "collapsed": false,
    "ExecuteTime": {
     "end_time": "2024-04-30T12:37:47.376408500Z",
     "start_time": "2024-04-30T12:37:46.519695700Z"
    }
   },
   "id": "ef22a119f43c2416",
   "execution_count": 3,
   "outputs": []
  },
  {
   "cell_type": "code",
   "source": [
    "chat"
   ],
   "metadata": {
    "collapsed": false,
    "ExecuteTime": {
     "end_time": "2024-04-30T12:37:54.657702300Z",
     "start_time": "2024-04-30T12:37:54.635792200Z"
    }
   },
   "id": "ad01e39d572db29",
   "execution_count": 4,
   "outputs": []
  },
  {
   "cell_type": "code",
   "source": [
    "template_string = \"\"\"\n",
    "Translate the text {style}.\n",
    "\"\"\"\n",
    "\n",
    "from langchain.prompts import ChatPromptTemplate\n",
    "\n",
    "prompt_template = ChatPromptTemplate.from_template(template_string)\n",
    "\n",
    "prompt_template.messages[0].prompt"
   ],
   "metadata": {
    "collapsed": false,
    "ExecuteTime": {
     "end_time": "2024-04-30T12:41:45.217577100Z",
     "start_time": "2024-04-30T12:41:45.207605800Z"
    }
   },
   "id": "6b539f585d8b2f30",
   "execution_count": 8,
   "outputs": []
  },
  {
   "cell_type": "code",
   "source": [],
   "metadata": {
    "collapsed": false
   },
   "id": "2ac34bc5c5c6bebc",
   "execution_count": null,
   "outputs": []
  }
 ],
 "metadata": {
  "kernelspec": {
   "display_name": "Python 3",
   "language": "python",
   "name": "python3"
  },
  "language_info": {
   "codemirror_mode": {
    "name": "ipython",
    "version": 2
   },
   "file_extension": ".py",
   "mimetype": "text/x-python",
   "name": "python",
   "nbconvert_exporter": "python",
   "pygments_lexer": "ipython2",
   "version": "2.7.6"
  }
 },
 "nbformat": 4,
 "nbformat_minor": 5
}
